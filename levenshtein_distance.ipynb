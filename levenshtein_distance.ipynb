{
 "cells": [
  {
   "cell_type": "code",
   "execution_count": 1,
   "id": "4b3a87c6",
   "metadata": {},
   "outputs": [],
   "source": [
    "def levenshtein(s1,s2):\n",
    "    if len(s1) < len(s2):\n",
    "        return levenshtein(s2,s1)\n",
    "    \n",
    "    if len(s2) == 0:\n",
    "        return len(s1)\n",
    "    previous_row = range(len(s2) + 1)\n",
    "    \n",
    "    for i, c1 in enumerate(s1):\n",
    "        current_row = [i+1]\n",
    "        for j, c2 in enumerate(s2):\n",
    "            insertions = previous_row[j+1] +1\n",
    "            deletions = current_row[j] + 1\n",
    "            substitutions = previous_row[j] + 2*(c1!=c2)\n",
    "            \n",
    "            current_row.append(min(insertions,deletions,substitutions))\n",
    "        previous_row = current_row\n",
    "    return previous_row[-1]\n",
    "    "
   ]
  },
  {
   "cell_type": "code",
   "execution_count": 2,
   "id": "29b887e2",
   "metadata": {},
   "outputs": [
    {
     "data": {
      "text/plain": [
       "3"
      ]
     },
     "execution_count": 2,
     "metadata": {},
     "output_type": "execute_result"
    }
   ],
   "source": [
    "levenshtein(\"tuesday\",\"thursday\")"
   ]
  }
 ],
 "metadata": {
  "kernelspec": {
   "display_name": "myenv",
   "language": "python",
   "name": "myenv"
  },
  "language_info": {
   "codemirror_mode": {
    "name": "ipython",
    "version": 3
   },
   "file_extension": ".py",
   "mimetype": "text/x-python",
   "name": "python",
   "nbconvert_exporter": "python",
   "pygments_lexer": "ipython3",
   "version": "3.9.17"
  }
 },
 "nbformat": 4,
 "nbformat_minor": 5
}
