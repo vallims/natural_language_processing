{
 "cells": [
  {
   "cell_type": "code",
   "execution_count": 99,
   "id": "fa0611f4",
   "metadata": {},
   "outputs": [],
   "source": [
    "import os\n",
    "from sklearn.feature_extraction.text import TfidfVectorizer\n",
    "from sklearn.metrics.pairwise import cosine_similarity"
   ]
  },
  {
   "cell_type": "code",
   "execution_count": 100,
   "id": "59bdf4fc",
   "metadata": {},
   "outputs": [
    {
     "data": {
      "text/plain": [
       "['text1.txt', 'text2.txt', 'text3.txt']"
      ]
     },
     "execution_count": 100,
     "metadata": {},
     "output_type": "execute_result"
    }
   ],
   "source": [
    "myfiles = [doc for doc in os.listdir() if doc.endswith('.txt')]\n",
    "myfiles"
   ]
  },
  {
   "cell_type": "code",
   "execution_count": 101,
   "id": "93b59366",
   "metadata": {},
   "outputs": [],
   "source": [
    "mynotes = [open(_file,encoding='utf-8').read() for _file in myfiles]"
   ]
  },
  {
   "cell_type": "code",
   "execution_count": 102,
   "id": "b8d66ee8",
   "metadata": {
    "scrolled": true
   },
   "outputs": [
    {
     "data": {
      "text/plain": [
       "['The tranquil meadow stretched as far as the eye could see, bathed in the golden glow of the setting sun. Butterflies flitted among the wildflowers, adding a touch of whimsy to the peaceful scene, while a gentle breeze whispered through the tall grass, creating a soothing melody.',\n",
       " 'This is a test document for testing plagiarism check. I used cosine similarity to compute the similarity scores between the documents. This code used tf-idf score to convert the text to numerical vector using sklearn.feature_extraction.text library.',\n",
       " 'The vibrant cityscape buzzed with energy as people hurriedly went about their daily routines. The towering skyscrapers reached for the sky, casting long shadows on the bustling streets below. Cars weaved through the labyrinth of traffic, their honks creating a symphony of urban sounds. Amidst the chaos, street vendors showcased their colorful wares, adding a touch of diversity to the lively scene.']"
      ]
     },
     "execution_count": 102,
     "metadata": {},
     "output_type": "execute_result"
    }
   ],
   "source": [
    "mynotes"
   ]
  },
  {
   "cell_type": "code",
   "execution_count": 103,
   "id": "2abcc8cb",
   "metadata": {},
   "outputs": [],
   "source": [
    "vectors = TfidfVectorizer().fit_transform(mynotes).toarray()"
   ]
  },
  {
   "cell_type": "code",
   "execution_count": 104,
   "id": "2f9692bc",
   "metadata": {},
   "outputs": [
    {
     "data": {
      "text/plain": [
       "(3, 103)"
      ]
     },
     "execution_count": 104,
     "metadata": {},
     "output_type": "execute_result"
    }
   ],
   "source": [
    "vectors.shape"
   ]
  },
  {
   "cell_type": "code",
   "execution_count": 105,
   "id": "4280de4e",
   "metadata": {},
   "outputs": [],
   "source": [
    "myvec = list(zip(myfiles,vectors))\n"
   ]
  },
  {
   "cell_type": "code",
   "execution_count": 106,
   "id": "9468907d",
   "metadata": {},
   "outputs": [],
   "source": [
    "plag_res = set()"
   ]
  },
  {
   "cell_type": "code",
   "execution_count": 107,
   "id": "876c6686",
   "metadata": {},
   "outputs": [],
   "source": [
    "for note_a, text_a in myvec:\n",
    "        new_vec = myvec.copy()\n",
    "        cur_index = new_vec.index((note_a, text_a))\n",
    "        del new_vec[cur_index]\n",
    "        for note_b, text_b in new_vec:\n",
    "            sim_score = cosine_similarity([text_a, text_b])[0][1]\n",
    "            sorted_note = sorted((note_a, note_b))\n",
    "            score = (sorted_note[0], sorted_note[1], sim_score)\n",
    "            plag_res.add(score)"
   ]
  },
  {
   "cell_type": "code",
   "execution_count": 108,
   "id": "1d83e6f5",
   "metadata": {},
   "outputs": [
    {
     "data": {
      "text/plain": [
       "{('text1.txt', 'text2.txt', 0.17340769631781092),\n",
       " ('text1.txt', 'text3.txt', 0.40065398512932215),\n",
       " ('text2.txt', 'text3.txt', 0.1546218943353642)}"
      ]
     },
     "execution_count": 108,
     "metadata": {},
     "output_type": "execute_result"
    }
   ],
   "source": [
    "plag_res"
   ]
  },
  {
   "cell_type": "code",
   "execution_count": null,
   "id": "0942e6c8",
   "metadata": {},
   "outputs": [],
   "source": []
  },
  {
   "cell_type": "code",
   "execution_count": null,
   "id": "b94e5cea",
   "metadata": {},
   "outputs": [],
   "source": []
  }
 ],
 "metadata": {
  "kernelspec": {
   "display_name": "myenv",
   "language": "python",
   "name": "myenv"
  },
  "language_info": {
   "codemirror_mode": {
    "name": "ipython",
    "version": 3
   },
   "file_extension": ".py",
   "mimetype": "text/x-python",
   "name": "python",
   "nbconvert_exporter": "python",
   "pygments_lexer": "ipython3",
   "version": "3.9.17"
  }
 },
 "nbformat": 4,
 "nbformat_minor": 5
}
